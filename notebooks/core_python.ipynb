{
 "cells": [
  {
   "cell_type": "markdown",
   "id": "5226c7b8",
   "metadata": {},
   "source": [
    "# Day 1: Python Core Blitz\n",
    "\n",
    "This notebook implements 5 core Python functions with doctests and runtime performance analysis.\n",
    "\n",
    "## Learning Goals\n",
    "\n",
    "- Implement fundamental Python algorithms\n",
    "- Write effective doctests\n",
    "- Measure and analyze runtime performance\n"
   ]
  },
  {
   "cell_type": "code",
   "execution_count": 1,
   "id": "1fb6355d",
   "metadata": {},
   "outputs": [],
   "source": [
    "import time\n",
    "import doctest\n",
    "import math"
   ]
  },
  {
   "cell_type": "markdown",
   "id": "33db53e8",
   "metadata": {},
   "source": [
    "## Function 1: FizzBuzz\n",
    "\n",
    "A classic programming problem: print numbers from 1 to n, but for multiples of 3 print \"Fizz\", for multiples of 5 print \"Buzz\", and for multiples of both print \"FizzBuzz\".\n"
   ]
  },
  {
   "cell_type": "code",
   "execution_count": 6,
   "id": "230d4f9c",
   "metadata": {},
   "outputs": [],
   "source": [
    "def fizzbuzz(n):\n",
    "    \"\"\"\n",
    "    Return a list of strings with FizzBuzz results from 1 to n.\n",
    "    \n",
    "    >>> fizzbuzz(15)\n",
    "    ['1', '2', 'Fizz', '4', 'Buzz', 'Fizz', '7', '8', 'Fizz', 'Buzz', '11', 'Fizz', '13', '14', 'FizzBuzz']\n",
    "    >>> fizzbuzz(5)\n",
    "    ['1', '2', 'Fizz', '4', 'Buzz']\n",
    "    \"\"\"\n",
    "    # TODO: Implement the fizzbuzz function\n",
    "    if n < 1:\n",
    "        raise ValueError(\"n must be a positive integer\")\n",
    "    \n",
    "    fbz_list = []\n",
    "    start_range = 1\n",
    "    end_range = n + 1 # to include n in the range\n",
    "    \n",
    "    for i in range(start_range, end_range):\n",
    "        if i % 3 == 0 and i % 5 == 0:\n",
    "            fbz_list.append(\"FizzBuzz\")\n",
    "        elif i % 3 == 0:\n",
    "            fbz_list.append(\"Fizz\")\n",
    "        elif i % 5 == 0:\n",
    "            fbz_list.append(\"Buzz\")\n",
    "        else:\n",
    "            fbz_list.append(str(i))\n",
    "    return fbz_list\n",
    "\n",
    "# Run doctests\n",
    "doctest.run_docstring_examples(fizzbuzz, globals())"
   ]
  }
 ],
 "metadata": {
  "kernelspec": {
   "display_name": ".venv",
   "language": "python",
   "name": "python3"
  },
  "language_info": {
   "codemirror_mode": {
    "name": "ipython",
    "version": 3
   },
   "file_extension": ".py",
   "mimetype": "text/x-python",
   "name": "python",
   "nbconvert_exporter": "python",
   "pygments_lexer": "ipython3",
   "version": "3.11.11"
  }
 },
 "nbformat": 4,
 "nbformat_minor": 5
}
