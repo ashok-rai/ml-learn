{
 "cells": [
  {
   "cell_type": "markdown",
   "metadata": {},
   "source": [
    "# Day 1: Python Core Blitz\n",
    "\n",
    "This notebook implements 5 core Python functions with doctests and runtime performance analysis.\n",
    "\n",
    "## Learning Goals\n",
    "- Implement fundamental Python algorithms\n",
    "- Write effective doctests\n",
    "- Measure and analyze runtime performance"
   ]
  },
  {
   "cell_type": "code",
   "execution_count": null,
   "metadata": {},
   "source": [
    "import time\n",
    "import doctest\n",
    "import math"
   ]
  },
  {
   "cell_type": "markdown",
   "metadata": {},
   "source": [
    "## Function 1: FizzBuzz\n",
    "\n",
    "A classic programming problem: print numbers from 1 to n, but for multiples of 3 print \"Fizz\", for multiples of 5 print \"Buzz\", and for multiples of both print \"FizzBuzz\"."
   ]
  },
  {
   "cell_type": "code",
   "execution_count": null,
   "metadata": {},
   "source": [
    "def fizzbuzz(n):\n",
    "    \"\"\"\n",
    "    Return a list of strings with FizzBuzz results from 1 to n.\n",
    "    \n",
    "    >>> fizzbuzz(15)\n",
    "    ['1', '2', 'Fizz', '4', 'Buzz', 'Fizz', '7', '8', 'Fizz', 'Buzz', '11', 'Fizz', '13', '14', 'FizzBuzz']\n",
    "    >>> fizzbuzz(5)\n",
    "    ['1', '2', 'Fizz', '4', 'Buzz']\n",
    "    \"\"\"\n",
    "    # TODO: Implement the fizzbuzz function\n",
    "    pass\n",
    "\n",
    "# Run doctests\n",
    "doctest.run_docstring_examples(fizzbuzz, globals())"
   ]
  },
  {
   "cell_type": "markdown",
   "metadata": {},
   "source": [
    "## Function 2: Prime Number Check\n",
    "\n",
    "Check if a number is prime (only divisible by 1 and itself)."
   ]
  },
  {
   "cell_type": "code",
   "execution_count": null,
   "metadata": {},
   "source": [
    "def is_prime(n):\n",
    "    \"\"\"\n",
    "    Check if a number is prime.\n",
    "    \n",
    "    >>> is_prime(7)\n",
    "    True\n",
    "    >>> is_prime(10)\n",
    "    False\n",
    "    >>> is_prime(1)\n",
    "    False\n",
    "    >>> is_prime(2)\n",
    "    True\n",
    "    \"\"\"\n",
    "    # TODO: Implement the is_prime function\n",
    "    pass\n",
    "\n",
    "# Run doctests\n",
    "doctest.run_docstring_examples(is_prime, globals())"
   ]
  },
  {
   "cell_type": "markdown",
   "metadata": {},
   "source": [
    "## Function 3: Fibonacci Sequence\n",
    "\n",
    "Generate the nth Fibonacci number where F(0) = 0, F(1) = 1, and F(n) = F(n-1) + F(n-2)."
   ]
  },
  {
   "cell_type": "code",
   "execution_count": null,
   "metadata": {},
   "source": [
    "def fibonacci(n):\n",
    "    \"\"\"\n",
    "    Return the nth Fibonacci number.\n",
    "    \n",
    "    >>> fibonacci(0)\n",
    "    0\n",
    "    >>> fibonacci(1)\n",
    "    1\n",
    "    >>> fibonacci(10)\n",
    "    55\n",
    "    \"\"\"\n",
    "    # TODO: Implement the fibonacci function\n",
    "    pass\n",
    "\n",
    "# Run doctests\n",
    "doctest.run_docstring_examples(fibonacci, globals())"
   ]
  },
  {
   "cell_type": "markdown",
   "metadata": {},
   "source": [
    "## Function 4: Palindrome Check\n",
    "\n",
    "Check if a string is a palindrome (reads the same forwards and backwards)."
   ]
  },
  {
   "cell_type": "code",
   "execution_count": null,
   "metadata": {},
   "source": [
    "def is_palindrome(s):\n",
    "    \"\"\"\n",
    "    Check if a string is a palindrome.\n",
    "    \n",
    "    >>> is_palindrome('radar')\n",
    "    True\n",
    "    >>> is_palindrome('hello')\n",
    "    False\n",
    "    >>> is_palindrome('A man a plan a canal Panama')\n",
    "    True\n",
    "    \"\"\"\n",
    "    # TODO: Implement the is_palindrome function\n",
    "    pass\n",
    "\n",
    "# Run doctests\n",
    "doctest.run_docstring_examples(is_palindrome, globals())"
   ]
  },
  {
   "cell_type": "markdown",
   "metadata": {},
   "source": [
    "## Function 5: List Flattening\n",
    "\n",
    "Flatten a nested list structure."
   ]
  },
  {
   "cell_type": "code",
   "execution_count": null,
   "metadata": {},
   "source": [
    "def flatten_list(nested_list):\n",
    "    \"\"\"\n",
    "    Flatten a nested list structure.\n",
    "    \n",
    "    >>> flatten_list([1, 2, [3, 4], [5, [6, 7]]])\n",
    "    [1, 2, 3, 4, 5, 6, 7]\n",
    "    >>> flatten_list([1, [2, [3, [4, [5]]]]])\n",
    "    [1, 2, 3, 4, 5]\n",
    "    >>> flatten_list([1, 2, 3])\n",
    "    [1, 2, 3]\n",
    "    \"\"\"\n",
    "    # TODO: Implement the flatten_list function\n",
    "    pass\n",
    "\n",
    "# Run doctests\n",
    "doctest.run_docstring_examples(flatten_list, globals())"
   ]
  },
  {
   "cell_type": "markdown",
   "metadata": {},
   "source": [
    "## Performance Analysis\n",
    "\n",
    "Now let's measure the runtime performance of our functions."
   ]
  },
  {
   "cell_type": "code",
   "execution_count": null,
   "metadata": {},
   "source": [
    "def measure_time(func, *args, iterations=1000):\n",
    "    \"\"\"Measure the average execution time of a function.\"\"\"\n",
    "    start_time = time.time()\n",
    "    for _ in range(iterations):\n",
    "        func(*args)\n",
    "    end_time = time.time()\n",
    "    return (end_time - start_time) / iterations * 1000  # Convert to milliseconds\n",
    "\n",
    "# TODO: Measure and compare the performance of your functions\n",
    "# Example:\n",
    "# print(f\"fizzbuzz(100): {measure_time(fizzbuzz, 100):.6f} ms\")"
   ]
  },
  {
   "cell_type": "markdown",
   "metadata": {},
   "source": [
    "## Alternative Implementations\n",
    "\n",
    "Let's try alternative implementations of one of our functions and compare performance."
   ]
  },
  {
   "cell_type": "code",
   "execution_count": null,
   "metadata": {},
   "source": [
    "# TODO: Implement alternative versions of one of your functions\n",
    "# and compare their performance"
   ]
  },
  {
   "cell_type": "markdown",
   "metadata": {},
   "source": [
    "## Analysis and Conclusions\n",
    "\n",
    "TODO: Write your analysis of the performance results here. Consider:\n",
    "- Which function was fastest/slowest?\n",
    "- How did alternative implementations compare?\n",
    "- What optimizations could be made?"
   ]
  }
 ],
 "metadata": {
  "kernelspec": {
   "display_name": "Python 3",
   "language": "python",
   "name": "python3"
  },
  "language_info": {
   "codemirror_mode": {
    "name": "ipython",
    "version": 3
   },
   "file_extension": ".py",
   "mimetype": "text/x-python",
   "name": "python",
   "nbconvert_exporter": "python",
   "pygments_lexer": "ipython3",
   "version": "3.11.0"
  }
 },
 "nbformat": 4,
 "nbformat_minor": 4
}
